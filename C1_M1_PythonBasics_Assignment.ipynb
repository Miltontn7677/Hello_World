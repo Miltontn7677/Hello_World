{
  "nbformat": 4,
  "nbformat_minor": 0,
  "metadata": {
    "colab": {
      "provenance": [],
      "include_colab_link": true
    },
    "kernelspec": {
      "name": "python3",
      "display_name": "Python 3"
    },
    "language_info": {
      "name": "python"
    }
  },
  "cells": [
    {
      "cell_type": "markdown",
      "metadata": {
        "id": "view-in-github",
        "colab_type": "text"
      },
      "source": [
        "<a href=\"https://colab.research.google.com/github/Miltontn7677/Hello_World/blob/master/C1_M1_PythonBasics_Assignment.ipynb\" target=\"_parent\"><img src=\"https://colab.research.google.com/assets/colab-badge.svg\" alt=\"Open In Colab\"/></a>"
      ]
    },
    {
      "cell_type": "markdown",
      "source": [
        "# Let's warm up the fundamentals of Python!\n"
      ],
      "metadata": {
        "id": "vO_PVFMSsOfX"
      }
    },
    {
      "cell_type": "markdown",
      "source": [
        "## Simple Input and Output"
      ],
      "metadata": {
        "id": "0rf9tXGbsd3j"
      }
    },
    {
      "cell_type": "markdown",
      "source": [
        "### Task: Print a message \"Welcome to Python Basics, `[user's name]`\" using print and input functions"
      ],
      "metadata": {
        "id": "NKvciejQt2TD"
      }
    },
    {
      "cell_type": "code",
      "source": [
        "print(\"Welcome to Python Basics, Manu\") # printing the welcome message to Manu\n"
      ],
      "metadata": {
        "colab": {
          "base_uri": "https://localhost:8080/"
        },
        "id": "u1WjyIiIn2Xw",
        "outputId": "28e0c78b-b8dd-4dc6-d110-45e224537492"
      },
      "execution_count": 1,
      "outputs": [
        {
          "output_type": "stream",
          "name": "stdout",
          "text": [
            "Welcome to Python Basics, Manu\n"
          ]
        }
      ]
    },
    {
      "cell_type": "markdown",
      "source": [
        "## Simple Variables"
      ],
      "metadata": {
        "id": "oJSHQdnVshY8"
      }
    },
    {
      "cell_type": "markdown",
      "source": [
        "### Task: Create variables representing a cat (name \"Kat\"), a price (13.50), a grade (95), a flag (True), an interest rate (5.75%), and check their data types."
      ],
      "metadata": {
        "id": "dn5tqpaMuIJK"
      }
    },
    {
      "cell_type": "code",
      "source": [
        "cat = \"Kat\"\n",
        "cost = 13.50\n",
        "grade = 95\n",
        "flag =True\n",
        "print(type(cat))\n",
        "print(type(cost))\n",
        "print(type(grade))\n",
        "print(type(flag))\n"
      ],
      "metadata": {
        "colab": {
          "base_uri": "https://localhost:8080/"
        },
        "id": "DRthig18oSpR",
        "outputId": "06d88757-92cc-4e8c-fa76-78709a92798e"
      },
      "execution_count": 23,
      "outputs": [
        {
          "output_type": "stream",
          "name": "stdout",
          "text": [
            "<class 'str'>\n",
            "<class 'float'>\n",
            "<class 'int'>\n",
            "<class 'bool'>\n"
          ]
        }
      ]
    },
    {
      "cell_type": "markdown",
      "source": [
        "### Task: Assign variable z with int 5, then with float 5.0, then with string '5.0'. Check the data type for each assignment."
      ],
      "metadata": {
        "id": "MycvuyqwvIRx"
      }
    },
    {
      "cell_type": "code",
      "source": [
        "z = 5\n",
        "print(type(z))\n",
        "z = 5.0\n",
        "print(type(z))\n",
        "z = '5.0'\n",
        "print(type(z))"
      ],
      "metadata": {
        "colab": {
          "base_uri": "https://localhost:8080/"
        },
        "id": "K7GSfEU3yQZJ",
        "outputId": "b62eafe5-7410-4f63-faf2-19149f08fefb"
      },
      "execution_count": 22,
      "outputs": [
        {
          "output_type": "stream",
          "name": "stdout",
          "text": [
            "<class 'int'>\n",
            "<class 'float'>\n",
            "<class 'str'>\n"
          ]
        }
      ]
    },
    {
      "cell_type": "markdown",
      "source": [
        "## Arithmatic Operations"
      ],
      "metadata": {
        "id": "Bzt94I5YsjmI"
      }
    },
    {
      "cell_type": "markdown",
      "source": [
        "### Task: Ask the user to type in two positive int, and compute the result of (+, -, *, /, //, **, %)"
      ],
      "metadata": {
        "id": "5pxvucZ4vVep"
      }
    },
    {
      "cell_type": "code",
      "source": [
        "x =15\n",
        "y = 2\n",
        "print(x+y)\n",
        "print(x-y)\n",
        "print(x*y)\n",
        "print(x/y)\n",
        "print(x//y)\n",
        "print(x**y)\n",
        "print(x%y)\n"
      ],
      "metadata": {
        "colab": {
          "base_uri": "https://localhost:8080/"
        },
        "id": "knaCBwLDyFmV",
        "outputId": "f6da9097-83dd-4ca8-ec0b-352fc13f15b8"
      },
      "execution_count": 21,
      "outputs": [
        {
          "output_type": "stream",
          "name": "stdout",
          "text": [
            "17\n",
            "13\n",
            "30\n",
            "7.5\n",
            "7\n",
            "225\n",
            "1\n"
          ]
        }
      ]
    },
    {
      "cell_type": "markdown",
      "source": [
        "### Task: Ask the user to type in two numbers, and compute the result of (<, <=, ==, >=, >, !=)"
      ],
      "metadata": {
        "id": "6NmFjmfzvpic"
      }
    },
    {
      "cell_type": "code",
      "source": [
        "x =5\n",
        "y = 2\n",
        "print(x<y)\n",
        "print(x<=y)\n",
        "print(x==y)\n",
        "print(x>=y)\n",
        "print(x>y)\n",
        "print(x!=y)\n"
      ],
      "metadata": {
        "colab": {
          "base_uri": "https://localhost:8080/"
        },
        "id": "g1sr3BCC1AVj",
        "outputId": "10538012-b969-4e9a-f9cb-cd6a750edbef"
      },
      "execution_count": 24,
      "outputs": [
        {
          "output_type": "stream",
          "name": "stdout",
          "text": [
            "False\n",
            "False\n",
            "False\n",
            "True\n",
            "True\n",
            "True\n"
          ]
        }
      ]
    },
    {
      "cell_type": "markdown",
      "source": [
        "## Logical Operations"
      ],
      "metadata": {
        "id": "shMmR1ZVsvgo"
      }
    },
    {
      "cell_type": "markdown",
      "source": [
        "### Task: Let x be `True` and y be `False`. Compute and print the result of (and, or, not)"
      ],
      "metadata": {
        "id": "yogvvlOLvyRI"
      }
    },
    {
      "cell_type": "code",
      "source": [
        "x = True\n",
        "Y = False\n",
        "print(x or Y)\n",
        "print(x and Y)\n",
        "print(not x)\n"
      ],
      "metadata": {
        "colab": {
          "base_uri": "https://localhost:8080/"
        },
        "id": "5ewgIv8mzEnj",
        "outputId": "8cf7c72b-6310-4cd7-d984-d93fab1abb6a"
      },
      "execution_count": 20,
      "outputs": [
        {
          "output_type": "stream",
          "name": "stdout",
          "text": [
            "True\n",
            "False\n",
            "False\n"
          ]
        }
      ]
    },
    {
      "cell_type": "markdown",
      "source": [
        "## Branching"
      ],
      "metadata": {
        "id": "ZrauvK3wszGK"
      }
    },
    {
      "cell_type": "markdown",
      "source": [
        "### Task: What day is today?\n",
        "\n",
        "Write a program that asks the user for a number in the range of 1 through 7. The program should display the corresponding day of the week, where\n",
        "\n",
        "* 1    = Monday,\n",
        "* 2    = Tuesday,\n",
        "* 3    = Wednesday,\n",
        "* 4    = Thursday,\n",
        "* 5    = Friday,\n",
        "* 6    = Saturday, and\n",
        "* 7    = Sunday\n",
        "* all other value entered = ERROR"
      ],
      "metadata": {
        "id": "YqtEdNxqv-a_"
      }
    },
    {
      "cell_type": "code",
      "source": [
        "day = input(\"Enter a number in the range of 1 through 7: \")\n",
        "day = int(day)\n",
        "if day == 1:\n",
        "  print(\"Monday\")\n",
        "elif day == 2:\n",
        "  print(\"Tuesday\")\n",
        "elif day ==3:\n",
        "  print(\"Wednesday\")\n",
        "elif day ==4:\n",
        "  print(\"Thursday\")\n",
        "elif day ==5:\n",
        "  print(\"Friday\")\n",
        "elif day ==6:\n",
        "  print(\"Saturday\")\n",
        "elif day ==7:\n",
        "  print(\"Sunday\")\n",
        "else:\n",
        "  print(\"ERROR\")"
      ],
      "metadata": {
        "colab": {
          "base_uri": "https://localhost:8080/"
        },
        "id": "fhWYRTfj1otU",
        "outputId": "415846c8-ad73-4f70-b3e2-8e4f54b0bade"
      },
      "execution_count": 35,
      "outputs": [
        {
          "output_type": "stream",
          "name": "stdout",
          "text": [
            "Enter a number in the range of 1 through 7: 7\n",
            "Sunday\n"
          ]
        }
      ]
    },
    {
      "cell_type": "markdown",
      "source": [
        "## Repetition"
      ],
      "metadata": {
        "id": "iidoIykas0yZ"
      }
    },
    {
      "cell_type": "markdown",
      "source": [
        "### Task: Keep saving until you can retire.\n",
        "\n",
        "Write a program to simulate how to save money for retirement.\n",
        "\n",
        "1.  Asks the user for a number representing a new positive deposit for the retirement fund.\n",
        "1.  Print out the amount of the deposit as well as the balance for each transaction.\n",
        "1.  When the balance is equal or more than 1 million, print a message \"You can retire now\" to the user.\n",
        "1.  Print \"Congratualtions!\" and exit the program."
      ],
      "metadata": {
        "id": "meRSoUjZwhSd"
      }
    },
    {
      "cell_type": "code",
      "source": [
        "balance = 0\n",
        "#Asks the user for a number representing a new positive deposit for the retirement fund.\n",
        "\n",
        "while balance < 1000000:\n",
        "  deposit = float(input(\"Deposit Amount: \"))\n",
        "  balance = balance+ deposit\n",
        "  print(\"Deposit:\", deposit)\n",
        "  print(\"Balance:\", balance)\n",
        "if balance >= 1000000:\n",
        "  print(\"You can retire now\")\n",
        "  print(\"Congratulations!\")\n"
      ],
      "metadata": {
        "colab": {
          "base_uri": "https://localhost:8080/"
        },
        "id": "bjJIQ90ZAyO4",
        "outputId": "bc6522ce-587d-42b5-c974-c8214b89a4f0"
      },
      "execution_count": 50,
      "outputs": [
        {
          "output_type": "stream",
          "name": "stdout",
          "text": [
            "Deposit Amount: 100000\n",
            "Deposit: 100000.0\n",
            "Balance: 100000.0\n",
            "Deposit Amount: 200000\n",
            "Deposit: 200000.0\n",
            "Balance: 300000.0\n",
            "Deposit Amount: 500000\n",
            "Deposit: 500000.0\n",
            "Balance: 800000.0\n",
            "Deposit Amount: 300000\n",
            "Deposit: 300000.0\n",
            "Balance: 1100000.0\n",
            "You can retire now\n",
            "Congratulations!\n"
          ]
        }
      ]
    }
  ]
}